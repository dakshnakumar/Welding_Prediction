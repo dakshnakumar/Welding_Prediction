{
 "cells": [
  {
   "cell_type": "code",
   "execution_count": 1,
   "metadata": {},
   "outputs": [],
   "source": [
    "import pandas as pd\n",
    "import numpy as np\n",
    "from sklearn.model_selection import train_test_split\n",
    "import matplotlib.pyplot as plt\n",
    "from sklearn.preprocessing import LabelEncoder\n",
    "from sklearn.utils import shuffle\n",
    "\n",
    "from sklearn.ensemble import RandomForestClassifier\n",
    "from sklearn.svm import SVC\n",
    "\n",
    "import xgboost as xgb\n",
    "from sklearn.naive_bayes import GaussianNB\n",
    "from sklearn.tree import DecisionTreeClassifier\n",
    "from sklearn.metrics import confusion_matrix,classification_report"
   ]
  },
  {
   "cell_type": "code",
   "execution_count": 2,
   "metadata": {},
   "outputs": [
    {
     "data": {
      "text/html": [
       "<div>\n",
       "<style scoped>\n",
       "    .dataframe tbody tr th:only-of-type {\n",
       "        vertical-align: middle;\n",
       "    }\n",
       "\n",
       "    .dataframe tbody tr th {\n",
       "        vertical-align: top;\n",
       "    }\n",
       "\n",
       "    .dataframe thead th {\n",
       "        text-align: right;\n",
       "    }\n",
       "</style>\n",
       "<table border=\"1\" class=\"dataframe\">\n",
       "  <thead>\n",
       "    <tr style=\"text-align: right;\">\n",
       "      <th></th>\n",
       "      <th>Unnamed: 0</th>\n",
       "      <th>Employee Code</th>\n",
       "      <th>Machine</th>\n",
       "      <th>Production</th>\n",
       "      <th>Order Operation No</th>\n",
       "      <th>Date</th>\n",
       "      <th>Time</th>\n",
       "      <th>Current</th>\n",
       "      <th>Humidity</th>\n",
       "      <th>Temperature</th>\n",
       "      <th>Flow</th>\n",
       "      <th>Job Temp</th>\n",
       "      <th>Voltage</th>\n",
       "      <th>Defect</th>\n",
       "    </tr>\n",
       "  </thead>\n",
       "  <tbody>\n",
       "    <tr>\n",
       "      <th>0</th>\n",
       "      <td>0</td>\n",
       "      <td>382617</td>\n",
       "      <td>TWLD23</td>\n",
       "      <td>E15002965</td>\n",
       "      <td>240</td>\n",
       "      <td>10-09-2022</td>\n",
       "      <td>7:32:28:527</td>\n",
       "      <td>1.13</td>\n",
       "      <td>74</td>\n",
       "      <td>23</td>\n",
       "      <td>0.01</td>\n",
       "      <td>29.3</td>\n",
       "      <td>15.200</td>\n",
       "      <td>No Defect</td>\n",
       "    </tr>\n",
       "    <tr>\n",
       "      <th>1</th>\n",
       "      <td>1</td>\n",
       "      <td>382617</td>\n",
       "      <td>TWLD23</td>\n",
       "      <td>E15002965</td>\n",
       "      <td>240</td>\n",
       "      <td>10-09-2022</td>\n",
       "      <td>7:32:29:40</td>\n",
       "      <td>1.82</td>\n",
       "      <td>74</td>\n",
       "      <td>23</td>\n",
       "      <td>0.00</td>\n",
       "      <td>29.3</td>\n",
       "      <td>0.000</td>\n",
       "      <td>Tungsten Inclusion</td>\n",
       "    </tr>\n",
       "    <tr>\n",
       "      <th>2</th>\n",
       "      <td>2</td>\n",
       "      <td>382617</td>\n",
       "      <td>TWLD23</td>\n",
       "      <td>E15002965</td>\n",
       "      <td>240</td>\n",
       "      <td>10-09-2022</td>\n",
       "      <td>7:32:29:677</td>\n",
       "      <td>2.91</td>\n",
       "      <td>74</td>\n",
       "      <td>23</td>\n",
       "      <td>0.00</td>\n",
       "      <td>29.3</td>\n",
       "      <td>0.000</td>\n",
       "      <td>No Defect</td>\n",
       "    </tr>\n",
       "    <tr>\n",
       "      <th>3</th>\n",
       "      <td>3</td>\n",
       "      <td>382617</td>\n",
       "      <td>TWLD23</td>\n",
       "      <td>E15002965</td>\n",
       "      <td>240</td>\n",
       "      <td>10-09-2022</td>\n",
       "      <td>7:32:30:166</td>\n",
       "      <td>0.04</td>\n",
       "      <td>74</td>\n",
       "      <td>23</td>\n",
       "      <td>0.00</td>\n",
       "      <td>29.3</td>\n",
       "      <td>0.000</td>\n",
       "      <td>No Defect</td>\n",
       "    </tr>\n",
       "    <tr>\n",
       "      <th>4</th>\n",
       "      <td>4</td>\n",
       "      <td>382617</td>\n",
       "      <td>TWLD23</td>\n",
       "      <td>E15002965</td>\n",
       "      <td>240</td>\n",
       "      <td>10-09-2022</td>\n",
       "      <td>7:32:30:696</td>\n",
       "      <td>2.51</td>\n",
       "      <td>74</td>\n",
       "      <td>23</td>\n",
       "      <td>0.00</td>\n",
       "      <td>27.8</td>\n",
       "      <td>0.000</td>\n",
       "      <td>No Defect</td>\n",
       "    </tr>\n",
       "    <tr>\n",
       "      <th>5</th>\n",
       "      <td>5</td>\n",
       "      <td>382617</td>\n",
       "      <td>TWLD23</td>\n",
       "      <td>E15002965</td>\n",
       "      <td>240</td>\n",
       "      <td>10-09-2022</td>\n",
       "      <td>7:32:31:286</td>\n",
       "      <td>0.24</td>\n",
       "      <td>74</td>\n",
       "      <td>23</td>\n",
       "      <td>0.00</td>\n",
       "      <td>27.8</td>\n",
       "      <td>0.000</td>\n",
       "      <td>No Defect</td>\n",
       "    </tr>\n",
       "    <tr>\n",
       "      <th>6</th>\n",
       "      <td>6</td>\n",
       "      <td>382617</td>\n",
       "      <td>TWLD23</td>\n",
       "      <td>E15002965</td>\n",
       "      <td>240</td>\n",
       "      <td>10-09-2022</td>\n",
       "      <td>7:32:31:786</td>\n",
       "      <td>-0.90</td>\n",
       "      <td>74</td>\n",
       "      <td>23</td>\n",
       "      <td>0.00</td>\n",
       "      <td>27.8</td>\n",
       "      <td>0.000</td>\n",
       "      <td>No Defect</td>\n",
       "    </tr>\n",
       "    <tr>\n",
       "      <th>7</th>\n",
       "      <td>7</td>\n",
       "      <td>382617</td>\n",
       "      <td>TWLD23</td>\n",
       "      <td>E15002965</td>\n",
       "      <td>240</td>\n",
       "      <td>10-09-2022</td>\n",
       "      <td>7:32:32:390</td>\n",
       "      <td>2.61</td>\n",
       "      <td>74</td>\n",
       "      <td>23</td>\n",
       "      <td>0.00</td>\n",
       "      <td>28.0</td>\n",
       "      <td>0.000</td>\n",
       "      <td>No Defect</td>\n",
       "    </tr>\n",
       "    <tr>\n",
       "      <th>8</th>\n",
       "      <td>8</td>\n",
       "      <td>382617</td>\n",
       "      <td>TWLD23</td>\n",
       "      <td>E15002965</td>\n",
       "      <td>240</td>\n",
       "      <td>10-09-2022</td>\n",
       "      <td>7:32:27:884</td>\n",
       "      <td>10.51</td>\n",
       "      <td>74</td>\n",
       "      <td>23</td>\n",
       "      <td>0.00</td>\n",
       "      <td>28.0</td>\n",
       "      <td>9.062</td>\n",
       "      <td>No Defect</td>\n",
       "    </tr>\n",
       "    <tr>\n",
       "      <th>9</th>\n",
       "      <td>9</td>\n",
       "      <td>382617</td>\n",
       "      <td>TWLD23</td>\n",
       "      <td>E15002965</td>\n",
       "      <td>240</td>\n",
       "      <td>10-09-2022</td>\n",
       "      <td>7:32:32:949</td>\n",
       "      <td>2.35</td>\n",
       "      <td>74</td>\n",
       "      <td>23</td>\n",
       "      <td>0.00</td>\n",
       "      <td>28.0</td>\n",
       "      <td>0.000</td>\n",
       "      <td>No Defect</td>\n",
       "    </tr>\n",
       "  </tbody>\n",
       "</table>\n",
       "</div>"
      ],
      "text/plain": [
       "   Unnamed: 0  Employee Code Machine Production Order Operation No  \\\n",
       "0           0         382617  TWLD23  E15002965                240   \n",
       "1           1         382617  TWLD23  E15002965                240   \n",
       "2           2         382617  TWLD23  E15002965                240   \n",
       "3           3         382617  TWLD23  E15002965                240   \n",
       "4           4         382617  TWLD23  E15002965                240   \n",
       "5           5         382617  TWLD23  E15002965                240   \n",
       "6           6         382617  TWLD23  E15002965                240   \n",
       "7           7         382617  TWLD23  E15002965                240   \n",
       "8           8         382617  TWLD23  E15002965                240   \n",
       "9           9         382617  TWLD23  E15002965                240   \n",
       "\n",
       "         Date         Time  Current  Humidity  Temperature  Flow  Job Temp  \\\n",
       "0  10-09-2022  7:32:28:527     1.13        74           23  0.01      29.3   \n",
       "1  10-09-2022   7:32:29:40     1.82        74           23  0.00      29.3   \n",
       "2  10-09-2022  7:32:29:677     2.91        74           23  0.00      29.3   \n",
       "3  10-09-2022  7:32:30:166     0.04        74           23  0.00      29.3   \n",
       "4  10-09-2022  7:32:30:696     2.51        74           23  0.00      27.8   \n",
       "5  10-09-2022  7:32:31:286     0.24        74           23  0.00      27.8   \n",
       "6  10-09-2022  7:32:31:786    -0.90        74           23  0.00      27.8   \n",
       "7  10-09-2022  7:32:32:390     2.61        74           23  0.00      28.0   \n",
       "8  10-09-2022  7:32:27:884    10.51        74           23  0.00      28.0   \n",
       "9  10-09-2022  7:32:32:949     2.35        74           23  0.00      28.0   \n",
       "\n",
       "   Voltage              Defect  \n",
       "0   15.200           No Defect  \n",
       "1    0.000  Tungsten Inclusion  \n",
       "2    0.000           No Defect  \n",
       "3    0.000           No Defect  \n",
       "4    0.000           No Defect  \n",
       "5    0.000           No Defect  \n",
       "6    0.000           No Defect  \n",
       "7    0.000           No Defect  \n",
       "8    9.062           No Defect  \n",
       "9    0.000           No Defect  "
      ]
     },
     "execution_count": 2,
     "metadata": {},
     "output_type": "execute_result"
    }
   ],
   "source": [
    "df = pd.read_excel('/Volumes/Project/Ai project/machine learning/IIT BOMBAY/welding /weld.xlsx')\n",
    "df.head(10)"
   ]
  },
  {
   "cell_type": "code",
   "execution_count": 51,
   "metadata": {},
   "outputs": [
    {
     "data": {
      "text/html": [
       "<div>\n",
       "<style scoped>\n",
       "    .dataframe tbody tr th:only-of-type {\n",
       "        vertical-align: middle;\n",
       "    }\n",
       "\n",
       "    .dataframe tbody tr th {\n",
       "        vertical-align: top;\n",
       "    }\n",
       "\n",
       "    .dataframe thead th {\n",
       "        text-align: right;\n",
       "    }\n",
       "</style>\n",
       "<table border=\"1\" class=\"dataframe\">\n",
       "  <thead>\n",
       "    <tr style=\"text-align: right;\">\n",
       "      <th></th>\n",
       "      <th>Unnamed: 0</th>\n",
       "      <th>Employee Code</th>\n",
       "      <th>Current</th>\n",
       "      <th>Humidity</th>\n",
       "      <th>Temperature</th>\n",
       "      <th>Flow</th>\n",
       "      <th>Job Temp</th>\n",
       "      <th>Voltage</th>\n",
       "    </tr>\n",
       "  </thead>\n",
       "  <tbody>\n",
       "    <tr>\n",
       "      <th>count</th>\n",
       "      <td>827534.000000</td>\n",
       "      <td>827534.000000</td>\n",
       "      <td>827534.000000</td>\n",
       "      <td>827534.000000</td>\n",
       "      <td>827534.000000</td>\n",
       "      <td>827534.000000</td>\n",
       "      <td>827534.000000</td>\n",
       "      <td>827534.000000</td>\n",
       "    </tr>\n",
       "    <tr>\n",
       "      <th>mean</th>\n",
       "      <td>413766.500000</td>\n",
       "      <td>318584.042989</td>\n",
       "      <td>8.673877</td>\n",
       "      <td>74.956373</td>\n",
       "      <td>23.884997</td>\n",
       "      <td>1.763230</td>\n",
       "      <td>136.406572</td>\n",
       "      <td>2.846528</td>\n",
       "    </tr>\n",
       "    <tr>\n",
       "      <th>std</th>\n",
       "      <td>238888.633169</td>\n",
       "      <td>139094.397126</td>\n",
       "      <td>13.219339</td>\n",
       "      <td>10.374707</td>\n",
       "      <td>3.491204</td>\n",
       "      <td>1.741196</td>\n",
       "      <td>558.122529</td>\n",
       "      <td>4.616725</td>\n",
       "    </tr>\n",
       "    <tr>\n",
       "      <th>min</th>\n",
       "      <td>0.000000</td>\n",
       "      <td>0.000000</td>\n",
       "      <td>-2.000000</td>\n",
       "      <td>0.000000</td>\n",
       "      <td>-13.000000</td>\n",
       "      <td>0.000000</td>\n",
       "      <td>0.000000</td>\n",
       "      <td>-2.578000</td>\n",
       "    </tr>\n",
       "    <tr>\n",
       "      <th>25%</th>\n",
       "      <td>206883.250000</td>\n",
       "      <td>382617.000000</td>\n",
       "      <td>0.260000</td>\n",
       "      <td>72.000000</td>\n",
       "      <td>24.000000</td>\n",
       "      <td>0.000000</td>\n",
       "      <td>29.800000</td>\n",
       "      <td>0.000000</td>\n",
       "    </tr>\n",
       "    <tr>\n",
       "      <th>50%</th>\n",
       "      <td>413766.500000</td>\n",
       "      <td>391342.000000</td>\n",
       "      <td>2.250000</td>\n",
       "      <td>76.000000</td>\n",
       "      <td>24.000000</td>\n",
       "      <td>1.600000</td>\n",
       "      <td>31.300000</td>\n",
       "      <td>0.000000</td>\n",
       "    </tr>\n",
       "    <tr>\n",
       "      <th>75%</th>\n",
       "      <td>620649.750000</td>\n",
       "      <td>394269.000000</td>\n",
       "      <td>13.677500</td>\n",
       "      <td>79.000000</td>\n",
       "      <td>25.000000</td>\n",
       "      <td>3.140000</td>\n",
       "      <td>35.600000</td>\n",
       "      <td>8.660000</td>\n",
       "    </tr>\n",
       "    <tr>\n",
       "      <th>max</th>\n",
       "      <td>827533.000000</td>\n",
       "      <td>394965.000000</td>\n",
       "      <td>163.000000</td>\n",
       "      <td>2444.000000</td>\n",
       "      <td>828.000000</td>\n",
       "      <td>14.470000</td>\n",
       "      <td>3276.700000</td>\n",
       "      <td>24.499000</td>\n",
       "    </tr>\n",
       "  </tbody>\n",
       "</table>\n",
       "</div>"
      ],
      "text/plain": [
       "          Unnamed: 0  Employee Code        Current       Humidity  \\\n",
       "count  827534.000000  827534.000000  827534.000000  827534.000000   \n",
       "mean   413766.500000  318584.042989       8.673877      74.956373   \n",
       "std    238888.633169  139094.397126      13.219339      10.374707   \n",
       "min         0.000000       0.000000      -2.000000       0.000000   \n",
       "25%    206883.250000  382617.000000       0.260000      72.000000   \n",
       "50%    413766.500000  391342.000000       2.250000      76.000000   \n",
       "75%    620649.750000  394269.000000      13.677500      79.000000   \n",
       "max    827533.000000  394965.000000     163.000000    2444.000000   \n",
       "\n",
       "         Temperature           Flow       Job Temp        Voltage  \n",
       "count  827534.000000  827534.000000  827534.000000  827534.000000  \n",
       "mean       23.884997       1.763230     136.406572       2.846528  \n",
       "std         3.491204       1.741196     558.122529       4.616725  \n",
       "min       -13.000000       0.000000       0.000000      -2.578000  \n",
       "25%        24.000000       0.000000      29.800000       0.000000  \n",
       "50%        24.000000       1.600000      31.300000       0.000000  \n",
       "75%        25.000000       3.140000      35.600000       8.660000  \n",
       "max       828.000000      14.470000    3276.700000      24.499000  "
      ]
     },
     "execution_count": 51,
     "metadata": {},
     "output_type": "execute_result"
    }
   ],
   "source": [
    "df.describe()"
   ]
  },
  {
   "cell_type": "code",
   "execution_count": 74,
   "metadata": {},
   "outputs": [],
   "source": [
    "# Create new variable to store the value in the dataset\n",
    "upd_df = df.drop([\"Unnamed: 0\",\t\"Employee Code\",\t\"Machine\",\t\"Production\",\t\"Order Operation No\",\t\"Date\"\t,\"Time\"],axis=1)\n"
   ]
  },
  {
   "cell_type": "code",
   "execution_count": 75,
   "metadata": {},
   "outputs": [],
   "source": [
    "#Encoding the target variable\n",
    "enc = LabelEncoder()\n",
    "\n",
    "upd_df[\"Defect\"] = enc.fit_transform(upd_df[\"Defect\"])"
   ]
  },
  {
   "cell_type": "markdown",
   "metadata": {},
   "source": [
    "# Data Vizulaization"
   ]
  },
  {
   "cell_type": "code",
   "execution_count": 6,
   "metadata": {},
   "outputs": [
    {
     "data": {
      "image/png": "[encoded data removed]",
      "text/plain": [
       "<Figure size 640x480 with 2 Axes>"
      ]
     },
     "metadata": {},
     "output_type": "display_data"
    }
   ],
   "source": [
    "# Vizualize the missing values\n",
    "import seaborn as sns\n",
    "sns.heatmap(df.isnull(),\n",
    "            cmap=sns.color_palette('Set2',2),\n",
    "            xticklabels=[f'{col}' for col in df.columns],\n",
    "            yticklabels=False\n",
    "            ).set_title('Missing values for missing');"
   ]
  },
  {
   "cell_type": "code",
   "execution_count": 7,
   "metadata": {},
   "outputs": [
    {
     "name": "stderr",
     "output_type": "stream",
     "text": [
      "/var/folders/0k/ldt1yyd108l2jv3rbg5bmtvc0000gn/T/ipykernel_15727/1026132119.py:2: FutureWarning: The default value of numeric_only in DataFrame.corr is deprecated. In a future version, it will default to False. Select only valid columns or specify the value of numeric_only to silence this warning.\n",
      "  sns.heatmap(df.corr())\n"
     ]
    },
    {
     "data": {
      "text/plain": [
       "<AxesSubplot: >"
      ]
     },
     "execution_count": 7,
     "metadata": {},
     "output_type": "execute_result"
    },
    {
     "data": {
      "image/png": "[encoded data removed]",
      "text/plain": [
       "<Figure size 640x480 with 2 Axes>"
      ]
     },
     "metadata": {},
     "output_type": "display_data"
    }
   ],
   "source": [
    "# heatmap\n",
    "sns.heatmap(df.corr())"
   ]
  },
  {
   "cell_type": "code",
   "execution_count": 8,
   "metadata": {},
   "outputs": [
    {
     "data": {
      "text/plain": [
       "Text(0, 0.5, 'Voltage')"
      ]
     },
     "execution_count": 8,
     "metadata": {},
     "output_type": "execute_result"
    },
    {
     "data": {
      "image/png": "[encoded data removed]",
      "text/plain": [
       "<Figure size 1300x700 with 1 Axes>"
      ]
     },
     "metadata": {},
     "output_type": "display_data"
    }
   ],
   "source": [
    "# vizualize the current and voltage\n",
    "plt.figure(figsize=(13,7))\n",
    "plt.scatter(df.Current.head(200),df.Voltage.head(200),marker='*')\n",
    "plt.xlabel('Current')\n",
    "plt.ylabel('Voltage')"
   ]
  },
  {
   "cell_type": "markdown",
   "metadata": {},
   "source": [
    "# Feature Selection"
   ]
  },
  {
   "cell_type": "code",
   "execution_count": 9,
   "metadata": {},
   "outputs": [
    {
     "data": {
      "text/html": [
       "<div>\n",
       "<style scoped>\n",
       "    .dataframe tbody tr th:only-of-type {\n",
       "        vertical-align: middle;\n",
       "    }\n",
       "\n",
       "    .dataframe tbody tr th {\n",
       "        vertical-align: top;\n",
       "    }\n",
       "\n",
       "    .dataframe thead th {\n",
       "        text-align: right;\n",
       "    }\n",
       "</style>\n",
       "<table border=\"1\" class=\"dataframe\">\n",
       "  <thead>\n",
       "    <tr style=\"text-align: right;\">\n",
       "      <th></th>\n",
       "      <th>Unnamed: 0</th>\n",
       "      <th>Employee Code</th>\n",
       "      <th>Order Operation No</th>\n",
       "      <th>Current</th>\n",
       "      <th>Humidity</th>\n",
       "      <th>Temperature</th>\n",
       "      <th>Flow</th>\n",
       "      <th>Job Temp</th>\n",
       "      <th>Voltage</th>\n",
       "      <th>Defect</th>\n",
       "    </tr>\n",
       "  </thead>\n",
       "  <tbody>\n",
       "    <tr>\n",
       "      <th>0</th>\n",
       "      <td>0</td>\n",
       "      <td>382617</td>\n",
       "      <td>240</td>\n",
       "      <td>1.13</td>\n",
       "      <td>74</td>\n",
       "      <td>23</td>\n",
       "      <td>0.01</td>\n",
       "      <td>29.3</td>\n",
       "      <td>15.2</td>\n",
       "      <td>No Defect</td>\n",
       "    </tr>\n",
       "    <tr>\n",
       "      <th>1</th>\n",
       "      <td>1</td>\n",
       "      <td>382617</td>\n",
       "      <td>240</td>\n",
       "      <td>1.82</td>\n",
       "      <td>74</td>\n",
       "      <td>23</td>\n",
       "      <td>0.00</td>\n",
       "      <td>29.3</td>\n",
       "      <td>0.0</td>\n",
       "      <td>Tungsten Inclusion</td>\n",
       "    </tr>\n",
       "    <tr>\n",
       "      <th>2</th>\n",
       "      <td>2</td>\n",
       "      <td>382617</td>\n",
       "      <td>240</td>\n",
       "      <td>2.91</td>\n",
       "      <td>74</td>\n",
       "      <td>23</td>\n",
       "      <td>0.00</td>\n",
       "      <td>29.3</td>\n",
       "      <td>0.0</td>\n",
       "      <td>No Defect</td>\n",
       "    </tr>\n",
       "    <tr>\n",
       "      <th>3</th>\n",
       "      <td>3</td>\n",
       "      <td>382617</td>\n",
       "      <td>240</td>\n",
       "      <td>0.04</td>\n",
       "      <td>74</td>\n",
       "      <td>23</td>\n",
       "      <td>0.00</td>\n",
       "      <td>29.3</td>\n",
       "      <td>0.0</td>\n",
       "      <td>No Defect</td>\n",
       "    </tr>\n",
       "    <tr>\n",
       "      <th>4</th>\n",
       "      <td>4</td>\n",
       "      <td>382617</td>\n",
       "      <td>240</td>\n",
       "      <td>2.51</td>\n",
       "      <td>74</td>\n",
       "      <td>23</td>\n",
       "      <td>0.00</td>\n",
       "      <td>27.8</td>\n",
       "      <td>0.0</td>\n",
       "      <td>No Defect</td>\n",
       "    </tr>\n",
       "  </tbody>\n",
       "</table>\n",
       "</div>"
      ],
      "text/plain": [
       "   Unnamed: 0  Employee Code Order Operation No  Current  Humidity  \\\n",
       "0           0         382617                240     1.13        74   \n",
       "1           1         382617                240     1.82        74   \n",
       "2           2         382617                240     2.91        74   \n",
       "3           3         382617                240     0.04        74   \n",
       "4           4         382617                240     2.51        74   \n",
       "\n",
       "   Temperature  Flow  Job Temp  Voltage              Defect  \n",
       "0           23  0.01      29.3     15.2           No Defect  \n",
       "1           23  0.00      29.3      0.0  Tungsten Inclusion  \n",
       "2           23  0.00      29.3      0.0           No Defect  \n",
       "3           23  0.00      29.3      0.0           No Defect  \n",
       "4           23  0.00      27.8      0.0           No Defect  "
      ]
     },
     "execution_count": 9,
     "metadata": {},
     "output_type": "execute_result"
    }
   ],
   "source": [
    "\n",
    "feature_selec_data_point = df.drop([\"Time\",\"Date\",\"Machine\",\"Production\"],axis=1)\n",
    "feature_selec_data_point.head(5)"
   ]
  },
  {
   "cell_type": "code",
   "execution_count": 10,
   "metadata": {},
   "outputs": [
    {
     "data": {
      "text/html": [
       "<div>\n",
       "<style scoped>\n",
       "    .dataframe tbody tr th:only-of-type {\n",
       "        vertical-align: middle;\n",
       "    }\n",
       "\n",
       "    .dataframe tbody tr th {\n",
       "        vertical-align: top;\n",
       "    }\n",
       "\n",
       "    .dataframe thead th {\n",
       "        text-align: right;\n",
       "    }\n",
       "</style>\n",
       "<table border=\"1\" class=\"dataframe\">\n",
       "  <thead>\n",
       "    <tr style=\"text-align: right;\">\n",
       "      <th></th>\n",
       "      <th>Unnamed: 0</th>\n",
       "      <th>Employee Code</th>\n",
       "      <th>Order Operation No</th>\n",
       "      <th>Current</th>\n",
       "      <th>Humidity</th>\n",
       "      <th>Temperature</th>\n",
       "      <th>Flow</th>\n",
       "      <th>Job Temp</th>\n",
       "      <th>Voltage</th>\n",
       "      <th>Defect</th>\n",
       "    </tr>\n",
       "  </thead>\n",
       "  <tbody>\n",
       "    <tr>\n",
       "      <th>0</th>\n",
       "      <td>0</td>\n",
       "      <td>382617</td>\n",
       "      <td>240</td>\n",
       "      <td>1.13</td>\n",
       "      <td>74</td>\n",
       "      <td>23</td>\n",
       "      <td>0.01</td>\n",
       "      <td>29.3</td>\n",
       "      <td>15.2</td>\n",
       "      <td>0</td>\n",
       "    </tr>\n",
       "    <tr>\n",
       "      <th>1</th>\n",
       "      <td>1</td>\n",
       "      <td>382617</td>\n",
       "      <td>240</td>\n",
       "      <td>1.82</td>\n",
       "      <td>74</td>\n",
       "      <td>23</td>\n",
       "      <td>0.00</td>\n",
       "      <td>29.3</td>\n",
       "      <td>0.0</td>\n",
       "      <td>2</td>\n",
       "    </tr>\n",
       "    <tr>\n",
       "      <th>2</th>\n",
       "      <td>2</td>\n",
       "      <td>382617</td>\n",
       "      <td>240</td>\n",
       "      <td>2.91</td>\n",
       "      <td>74</td>\n",
       "      <td>23</td>\n",
       "      <td>0.00</td>\n",
       "      <td>29.3</td>\n",
       "      <td>0.0</td>\n",
       "      <td>0</td>\n",
       "    </tr>\n",
       "    <tr>\n",
       "      <th>3</th>\n",
       "      <td>3</td>\n",
       "      <td>382617</td>\n",
       "      <td>240</td>\n",
       "      <td>0.04</td>\n",
       "      <td>74</td>\n",
       "      <td>23</td>\n",
       "      <td>0.00</td>\n",
       "      <td>29.3</td>\n",
       "      <td>0.0</td>\n",
       "      <td>0</td>\n",
       "    </tr>\n",
       "    <tr>\n",
       "      <th>4</th>\n",
       "      <td>4</td>\n",
       "      <td>382617</td>\n",
       "      <td>240</td>\n",
       "      <td>2.51</td>\n",
       "      <td>74</td>\n",
       "      <td>23</td>\n",
       "      <td>0.00</td>\n",
       "      <td>27.8</td>\n",
       "      <td>0.0</td>\n",
       "      <td>0</td>\n",
       "    </tr>\n",
       "    <tr>\n",
       "      <th>...</th>\n",
       "      <td>...</td>\n",
       "      <td>...</td>\n",
       "      <td>...</td>\n",
       "      <td>...</td>\n",
       "      <td>...</td>\n",
       "      <td>...</td>\n",
       "      <td>...</td>\n",
       "      <td>...</td>\n",
       "      <td>...</td>\n",
       "      <td>...</td>\n",
       "    </tr>\n",
       "    <tr>\n",
       "      <th>827529</th>\n",
       "      <td>827529</td>\n",
       "      <td>391342</td>\n",
       "      <td>240</td>\n",
       "      <td>0.33</td>\n",
       "      <td>58</td>\n",
       "      <td>24</td>\n",
       "      <td>0.00</td>\n",
       "      <td>34.0</td>\n",
       "      <td>0.0</td>\n",
       "      <td>0</td>\n",
       "    </tr>\n",
       "    <tr>\n",
       "      <th>827530</th>\n",
       "      <td>827530</td>\n",
       "      <td>391342</td>\n",
       "      <td>240</td>\n",
       "      <td>0.34</td>\n",
       "      <td>58</td>\n",
       "      <td>24</td>\n",
       "      <td>0.00</td>\n",
       "      <td>34.0</td>\n",
       "      <td>0.0</td>\n",
       "      <td>0</td>\n",
       "    </tr>\n",
       "    <tr>\n",
       "      <th>827531</th>\n",
       "      <td>827531</td>\n",
       "      <td>391342</td>\n",
       "      <td>240</td>\n",
       "      <td>-0.86</td>\n",
       "      <td>58</td>\n",
       "      <td>24</td>\n",
       "      <td>0.06</td>\n",
       "      <td>34.0</td>\n",
       "      <td>0.0</td>\n",
       "      <td>0</td>\n",
       "    </tr>\n",
       "    <tr>\n",
       "      <th>827532</th>\n",
       "      <td>827532</td>\n",
       "      <td>391342</td>\n",
       "      <td>240</td>\n",
       "      <td>0.32</td>\n",
       "      <td>58</td>\n",
       "      <td>24</td>\n",
       "      <td>0.00</td>\n",
       "      <td>34.6</td>\n",
       "      <td>0.0</td>\n",
       "      <td>0</td>\n",
       "    </tr>\n",
       "    <tr>\n",
       "      <th>827533</th>\n",
       "      <td>827533</td>\n",
       "      <td>391342</td>\n",
       "      <td>240</td>\n",
       "      <td>0.74</td>\n",
       "      <td>57</td>\n",
       "      <td>24</td>\n",
       "      <td>0.04</td>\n",
       "      <td>34.6</td>\n",
       "      <td>0.0</td>\n",
       "      <td>0</td>\n",
       "    </tr>\n",
       "  </tbody>\n",
       "</table>\n",
       "<p>827534 rows × 10 columns</p>\n",
       "</div>"
      ],
      "text/plain": [
       "        Unnamed: 0  Employee Code Order Operation No  Current  Humidity  \\\n",
       "0                0         382617                240     1.13        74   \n",
       "1                1         382617                240     1.82        74   \n",
       "2                2         382617                240     2.91        74   \n",
       "3                3         382617                240     0.04        74   \n",
       "4                4         382617                240     2.51        74   \n",
       "...            ...            ...                ...      ...       ...   \n",
       "827529      827529         391342                240     0.33        58   \n",
       "827530      827530         391342                240     0.34        58   \n",
       "827531      827531         391342                240    -0.86        58   \n",
       "827532      827532         391342                240     0.32        58   \n",
       "827533      827533         391342                240     0.74        57   \n",
       "\n",
       "        Temperature  Flow  Job Temp  Voltage  Defect  \n",
       "0                23  0.01      29.3     15.2       0  \n",
       "1                23  0.00      29.3      0.0       2  \n",
       "2                23  0.00      29.3      0.0       0  \n",
       "3                23  0.00      29.3      0.0       0  \n",
       "4                23  0.00      27.8      0.0       0  \n",
       "...             ...   ...       ...      ...     ...  \n",
       "827529           24  0.00      34.0      0.0       0  \n",
       "827530           24  0.00      34.0      0.0       0  \n",
       "827531           24  0.06      34.0      0.0       0  \n",
       "827532           24  0.00      34.6      0.0       0  \n",
       "827533           24  0.04      34.6      0.0       0  \n",
       "\n",
       "[827534 rows x 10 columns]"
      ]
     },
     "execution_count": 10,
     "metadata": {},
     "output_type": "execute_result"
    }
   ],
   "source": [
    "# Converting categorical data into numerical data\n",
    "enc = LabelEncoder()\n",
    "# feature_selec_data_point.drop(\"Unnamed:0\")\n",
    "feature_selec_data_point.head(5)\n",
    "feature_selec_data_point[\"Defect\"] = enc.fit_transform(feature_selec_data_point[\"Defect\"])\n",
    "feature_selec_data_point"
   ]
  },
  {
   "cell_type": "code",
   "execution_count": 11,
   "metadata": {},
   "outputs": [],
   "source": [
    "feature_selec_data_point.dtypes\n",
    "feature_selec_data_point.drop([\"Unnamed: 0\",\"Employee Code\",\"Order Operation No\"],axis=1,inplace=True)"
   ]
  },
  {
   "cell_type": "code",
   "execution_count": 12,
   "metadata": {},
   "outputs": [
    {
     "name": "stdout",
     "output_type": "stream",
     "text": [
      "Automatically created module for IPython interactive environment\n",
      "Feature ranking:\n",
      "1. feature 5 (0.282699)\n",
      "2. feature 0 (0.247847)\n",
      "3. feature 4 (0.175634)\n",
      "4. feature 3 (0.145142)\n",
      "5. feature 1 (0.101949)\n",
      "6. feature 2 (0.046730)\n"
     ]
    }
   ],
   "source": [
    "print(__doc__)\n",
    "from sklearn.datasets import make_classification\n",
    "from sklearn.ensemble import ExtraTreesClassifier\n",
    "X=np.array(feature_selec_data_point.drop('Defect',axis=1))\n",
    "y=np.array(feature_selec_data_point['Defect'])\n",
    "# Build a forest and compute the feature importances\n",
    "forest = ExtraTreesClassifier(n_estimators=250,\n",
    "                              random_state=0)\n",
    "forest.fit(X, y)\n",
    "importances = forest.feature_importances_\n",
    "std = np.std([tree.feature_importances_ for tree in forest.estimators_],\n",
    "             axis=0)\n",
    "indices = np.argsort(importances)[::-1]\n",
    "# Print the feature ranking\n",
    "print(\"Feature ranking:\")\n",
    "for f in range(X.shape[1]):\n",
    "    print(\"%d. feature %d (%f)\" % (f + 1, indices[f], importances[indices[f]]))"
   ]
  },
  {
   "cell_type": "code",
   "execution_count": 13,
   "metadata": {},
   "outputs": [
    {
     "data": {
      "image/png": "[encoded data removed]",
      "text/plain": [
       "<Figure size 640x480 with 1 Axes>"
      ]
     },
     "metadata": {},
     "output_type": "display_data"
    }
   ],
   "source": [
    "# Plot the feature importances of the forest\n",
    "plt.figure()\n",
    "plt.title(\"Feature importances\")\n",
    "plt.bar(range(X.shape[1]), importances[indices],\n",
    "       color=\"r\", yerr=std[indices], align=\"center\")\n",
    "plt.xticks(range(X.shape[1]), indices)\n",
    "plt.xlim([-1, X.shape[1]])\n",
    "plt.show()"
   ]
  },
  {
   "cell_type": "markdown",
   "metadata": {},
   "source": [
    "*** As we see from the above graoh voltage and current play curical role in the predicting the output columns .So going to remove outlier in voltage and current column ***"
   ]
  },
  {
   "cell_type": "markdown",
   "metadata": {},
   "source": [
    "# Feature Enginerring"
   ]
  },
  {
   "cell_type": "markdown",
   "metadata": {},
   "source": [
    "Removing Outlier in Voltage Column"
   ]
  },
  {
   "cell_type": "code",
   "execution_count": 14,
   "metadata": {},
   "outputs": [
    {
     "data": {
      "text/plain": [
       "(1.108, 12.408)"
      ]
     },
     "execution_count": 14,
     "metadata": {},
     "output_type": "execute_result"
    }
   ],
   "source": [
    "# Using IQR remove outlier in voltage column\n",
    "\n",
    "Q1 = upd_df['Voltage'].quantile(0.71) # 71 percentage because all before values are 0's\n",
    "Q3 = upd_df['Voltage'].quantile(0.98)\n",
    "\n",
    "#find the IQR\n",
    "IOR = Q3-Q1\n",
    "\n",
    "#Setting lower bound value and upper bound value\n",
    "\n",
    "lower_limit = Q1 - 0*IOR\n",
    "upper_limit = Q3 + 0*IOR\n",
    "\n",
    "lower_limit , upper_limit"
   ]
  },
  {
   "cell_type": "code",
   "execution_count": 15,
   "metadata": {},
   "outputs": [],
   "source": [
    "#no outlier in voltage column\n",
    "upd_no_outlier_voltage = upd_df[(upd_df['Voltage'] > lower_limit)&(upd_df['Voltage']< upper_limit)]"
   ]
  },
  {
   "cell_type": "code",
   "execution_count": 16,
   "metadata": {},
   "outputs": [
    {
     "data": {
      "text/html": [
       "<div>\n",
       "<style scoped>\n",
       "    .dataframe tbody tr th:only-of-type {\n",
       "        vertical-align: middle;\n",
       "    }\n",
       "\n",
       "    .dataframe tbody tr th {\n",
       "        vertical-align: top;\n",
       "    }\n",
       "\n",
       "    .dataframe thead th {\n",
       "        text-align: right;\n",
       "    }\n",
       "</style>\n",
       "<table border=\"1\" class=\"dataframe\">\n",
       "  <thead>\n",
       "    <tr style=\"text-align: right;\">\n",
       "      <th></th>\n",
       "      <th>Current</th>\n",
       "      <th>Humidity</th>\n",
       "      <th>Temperature</th>\n",
       "      <th>Flow</th>\n",
       "      <th>Job Temp</th>\n",
       "      <th>Voltage</th>\n",
       "      <th>Defect</th>\n",
       "    </tr>\n",
       "  </thead>\n",
       "  <tbody>\n",
       "    <tr>\n",
       "      <th>8</th>\n",
       "      <td>10.51</td>\n",
       "      <td>74</td>\n",
       "      <td>23</td>\n",
       "      <td>0.0</td>\n",
       "      <td>28.0</td>\n",
       "      <td>9.062</td>\n",
       "      <td>0</td>\n",
       "    </tr>\n",
       "    <tr>\n",
       "      <th>20</th>\n",
       "      <td>9.44</td>\n",
       "      <td>74</td>\n",
       "      <td>23</td>\n",
       "      <td>0.0</td>\n",
       "      <td>28.2</td>\n",
       "      <td>10.852</td>\n",
       "      <td>0</td>\n",
       "    </tr>\n",
       "    <tr>\n",
       "      <th>21</th>\n",
       "      <td>10.73</td>\n",
       "      <td>74</td>\n",
       "      <td>23</td>\n",
       "      <td>0.0</td>\n",
       "      <td>28.1</td>\n",
       "      <td>9.994</td>\n",
       "      <td>0</td>\n",
       "    </tr>\n",
       "    <tr>\n",
       "      <th>22</th>\n",
       "      <td>12.82</td>\n",
       "      <td>74</td>\n",
       "      <td>23</td>\n",
       "      <td>0.0</td>\n",
       "      <td>28.1</td>\n",
       "      <td>9.354</td>\n",
       "      <td>0</td>\n",
       "    </tr>\n",
       "    <tr>\n",
       "      <th>23</th>\n",
       "      <td>15.32</td>\n",
       "      <td>74</td>\n",
       "      <td>23</td>\n",
       "      <td>0.0</td>\n",
       "      <td>28.1</td>\n",
       "      <td>9.361</td>\n",
       "      <td>0</td>\n",
       "    </tr>\n",
       "    <tr>\n",
       "      <th>...</th>\n",
       "      <td>...</td>\n",
       "      <td>...</td>\n",
       "      <td>...</td>\n",
       "      <td>...</td>\n",
       "      <td>...</td>\n",
       "      <td>...</td>\n",
       "      <td>...</td>\n",
       "    </tr>\n",
       "    <tr>\n",
       "      <th>827258</th>\n",
       "      <td>19.84</td>\n",
       "      <td>57</td>\n",
       "      <td>24</td>\n",
       "      <td>0.0</td>\n",
       "      <td>38.2</td>\n",
       "      <td>12.117</td>\n",
       "      <td>0</td>\n",
       "    </tr>\n",
       "    <tr>\n",
       "      <th>827259</th>\n",
       "      <td>20.53</td>\n",
       "      <td>57</td>\n",
       "      <td>24</td>\n",
       "      <td>0.0</td>\n",
       "      <td>409.3</td>\n",
       "      <td>11.969</td>\n",
       "      <td>0</td>\n",
       "    </tr>\n",
       "    <tr>\n",
       "      <th>827269</th>\n",
       "      <td>19.20</td>\n",
       "      <td>57</td>\n",
       "      <td>24</td>\n",
       "      <td>0.0</td>\n",
       "      <td>37.5</td>\n",
       "      <td>11.829</td>\n",
       "      <td>0</td>\n",
       "    </tr>\n",
       "    <tr>\n",
       "      <th>827290</th>\n",
       "      <td>5.90</td>\n",
       "      <td>57</td>\n",
       "      <td>24</td>\n",
       "      <td>0.0</td>\n",
       "      <td>37.1</td>\n",
       "      <td>6.926</td>\n",
       "      <td>0</td>\n",
       "    </tr>\n",
       "    <tr>\n",
       "      <th>827294</th>\n",
       "      <td>1.80</td>\n",
       "      <td>57</td>\n",
       "      <td>24</td>\n",
       "      <td>0.0</td>\n",
       "      <td>37.1</td>\n",
       "      <td>12.088</td>\n",
       "      <td>0</td>\n",
       "    </tr>\n",
       "  </tbody>\n",
       "</table>\n",
       "<p>220235 rows × 7 columns</p>\n",
       "</div>"
      ],
      "text/plain": [
       "        Current  Humidity  Temperature  Flow  Job Temp  Voltage  Defect\n",
       "8         10.51        74           23   0.0      28.0    9.062       0\n",
       "20         9.44        74           23   0.0      28.2   10.852       0\n",
       "21        10.73        74           23   0.0      28.1    9.994       0\n",
       "22        12.82        74           23   0.0      28.1    9.354       0\n",
       "23        15.32        74           23   0.0      28.1    9.361       0\n",
       "...         ...       ...          ...   ...       ...      ...     ...\n",
       "827258    19.84        57           24   0.0      38.2   12.117       0\n",
       "827259    20.53        57           24   0.0     409.3   11.969       0\n",
       "827269    19.20        57           24   0.0      37.5   11.829       0\n",
       "827290     5.90        57           24   0.0      37.1    6.926       0\n",
       "827294     1.80        57           24   0.0      37.1   12.088       0\n",
       "\n",
       "[220235 rows x 7 columns]"
      ]
     },
     "execution_count": 16,
     "metadata": {},
     "output_type": "execute_result"
    }
   ],
   "source": [
    "upd_no_outlier_voltage"
   ]
  },
  {
   "cell_type": "code",
   "execution_count": 17,
   "metadata": {},
   "outputs": [
    {
     "data": {
      "text/html": [
       "<div>\n",
       "<style scoped>\n",
       "    .dataframe tbody tr th:only-of-type {\n",
       "        vertical-align: middle;\n",
       "    }\n",
       "\n",
       "    .dataframe tbody tr th {\n",
       "        vertical-align: top;\n",
       "    }\n",
       "\n",
       "    .dataframe thead th {\n",
       "        text-align: right;\n",
       "    }\n",
       "</style>\n",
       "<table border=\"1\" class=\"dataframe\">\n",
       "  <thead>\n",
       "    <tr style=\"text-align: right;\">\n",
       "      <th></th>\n",
       "      <th>Current</th>\n",
       "      <th>Humidity</th>\n",
       "      <th>Temperature</th>\n",
       "      <th>Flow</th>\n",
       "      <th>Job Temp</th>\n",
       "      <th>Voltage</th>\n",
       "      <th>Defect</th>\n",
       "    </tr>\n",
       "  </thead>\n",
       "  <tbody>\n",
       "    <tr>\n",
       "      <th>8</th>\n",
       "      <td>10.51</td>\n",
       "      <td>74</td>\n",
       "      <td>23</td>\n",
       "      <td>0.0</td>\n",
       "      <td>28.0</td>\n",
       "      <td>9.062</td>\n",
       "      <td>0</td>\n",
       "    </tr>\n",
       "    <tr>\n",
       "      <th>20</th>\n",
       "      <td>9.44</td>\n",
       "      <td>74</td>\n",
       "      <td>23</td>\n",
       "      <td>0.0</td>\n",
       "      <td>28.2</td>\n",
       "      <td>10.852</td>\n",
       "      <td>0</td>\n",
       "    </tr>\n",
       "    <tr>\n",
       "      <th>21</th>\n",
       "      <td>10.73</td>\n",
       "      <td>74</td>\n",
       "      <td>23</td>\n",
       "      <td>0.0</td>\n",
       "      <td>28.1</td>\n",
       "      <td>9.994</td>\n",
       "      <td>0</td>\n",
       "    </tr>\n",
       "    <tr>\n",
       "      <th>22</th>\n",
       "      <td>12.82</td>\n",
       "      <td>74</td>\n",
       "      <td>23</td>\n",
       "      <td>0.0</td>\n",
       "      <td>28.1</td>\n",
       "      <td>9.354</td>\n",
       "      <td>0</td>\n",
       "    </tr>\n",
       "    <tr>\n",
       "      <th>23</th>\n",
       "      <td>15.32</td>\n",
       "      <td>74</td>\n",
       "      <td>23</td>\n",
       "      <td>0.0</td>\n",
       "      <td>28.1</td>\n",
       "      <td>9.361</td>\n",
       "      <td>0</td>\n",
       "    </tr>\n",
       "    <tr>\n",
       "      <th>...</th>\n",
       "      <td>...</td>\n",
       "      <td>...</td>\n",
       "      <td>...</td>\n",
       "      <td>...</td>\n",
       "      <td>...</td>\n",
       "      <td>...</td>\n",
       "      <td>...</td>\n",
       "    </tr>\n",
       "    <tr>\n",
       "      <th>827231</th>\n",
       "      <td>8.39</td>\n",
       "      <td>57</td>\n",
       "      <td>24</td>\n",
       "      <td>0.0</td>\n",
       "      <td>38.7</td>\n",
       "      <td>5.896</td>\n",
       "      <td>0</td>\n",
       "    </tr>\n",
       "    <tr>\n",
       "      <th>827234</th>\n",
       "      <td>7.15</td>\n",
       "      <td>57</td>\n",
       "      <td>24</td>\n",
       "      <td>0.0</td>\n",
       "      <td>38.4</td>\n",
       "      <td>11.919</td>\n",
       "      <td>0</td>\n",
       "    </tr>\n",
       "    <tr>\n",
       "      <th>827269</th>\n",
       "      <td>19.20</td>\n",
       "      <td>57</td>\n",
       "      <td>24</td>\n",
       "      <td>0.0</td>\n",
       "      <td>37.5</td>\n",
       "      <td>11.829</td>\n",
       "      <td>0</td>\n",
       "    </tr>\n",
       "    <tr>\n",
       "      <th>827290</th>\n",
       "      <td>5.90</td>\n",
       "      <td>57</td>\n",
       "      <td>24</td>\n",
       "      <td>0.0</td>\n",
       "      <td>37.1</td>\n",
       "      <td>6.926</td>\n",
       "      <td>0</td>\n",
       "    </tr>\n",
       "    <tr>\n",
       "      <th>827294</th>\n",
       "      <td>1.80</td>\n",
       "      <td>57</td>\n",
       "      <td>24</td>\n",
       "      <td>0.0</td>\n",
       "      <td>37.1</td>\n",
       "      <td>12.088</td>\n",
       "      <td>0</td>\n",
       "    </tr>\n",
       "  </tbody>\n",
       "</table>\n",
       "<p>67391 rows × 7 columns</p>\n",
       "</div>"
      ],
      "text/plain": [
       "        Current  Humidity  Temperature  Flow  Job Temp  Voltage  Defect\n",
       "8         10.51        74           23   0.0      28.0    9.062       0\n",
       "20         9.44        74           23   0.0      28.2   10.852       0\n",
       "21        10.73        74           23   0.0      28.1    9.994       0\n",
       "22        12.82        74           23   0.0      28.1    9.354       0\n",
       "23        15.32        74           23   0.0      28.1    9.361       0\n",
       "...         ...       ...          ...   ...       ...      ...     ...\n",
       "827231     8.39        57           24   0.0      38.7    5.896       0\n",
       "827234     7.15        57           24   0.0      38.4   11.919       0\n",
       "827269    19.20        57           24   0.0      37.5   11.829       0\n",
       "827290     5.90        57           24   0.0      37.1    6.926       0\n",
       "827294     1.80        57           24   0.0      37.1   12.088       0\n",
       "\n",
       "[67391 rows x 7 columns]"
      ]
     },
     "execution_count": 17,
     "metadata": {},
     "output_type": "execute_result"
    }
   ],
   "source": [
    "# Using IQR remove outlier in current column\n",
    "\n",
    "Q1 = upd_df['Current'].quantile(0.45) # 71 percentage because all before values are 0's\n",
    "Q3 = upd_df['Current'].quantile(0.75)\n",
    "\n",
    "#find the IQR\n",
    "IOR = Q3-Q1\n",
    "\n",
    "#Setting lower bound value and upper bound value\n",
    "\n",
    "lower_limit = Q1 - 0.5*IOR\n",
    "upper_limit = Q3 + 0.5*IOR\n",
    "\n",
    "lower_limit , upper_limit,Q1,Q3\n",
    "upd_no_outlier_curr = upd_no_outlier_voltage[(upd_no_outlier_voltage['Current'] > lower_limit)&(upd_no_outlier_voltage['Current']< upper_limit)]\n",
    "upd_no_outlier_curr"
   ]
  },
  {
   "cell_type": "code",
   "execution_count": 18,
   "metadata": {},
   "outputs": [
    {
     "data": {
      "text/plain": [
       "0    66060\n",
       "2     1235\n",
       "1       96\n",
       "Name: Defect, dtype: int64"
      ]
     },
     "execution_count": 18,
     "metadata": {},
     "output_type": "execute_result"
    }
   ],
   "source": [
    "upd_no_outlier_curr[\"Defect\"].value_counts()"
   ]
  },
  {
   "cell_type": "code",
   "execution_count": 19,
   "metadata": {},
   "outputs": [
    {
     "name": "stdout",
     "output_type": "stream",
     "text": [
      "[(0, 66060), (1, 66060), (2, 66060)]\n"
     ]
    },
    {
     "data": {
      "text/plain": [
       "0    66060\n",
       "2    66060\n",
       "1    66060\n",
       "Name: Defect, dtype: int64"
      ]
     },
     "execution_count": 19,
     "metadata": {},
     "output_type": "execute_result"
    }
   ],
   "source": [
    "\n",
    "X = upd_no_outlier_curr.drop(\"Defect\",axis=1)\n",
    "y = upd_no_outlier_curr[\"Defect\"]\n",
    "\n",
    "#Applying SMOTE to handle imbalaanced data set\n",
    "from imblearn.over_sampling import BorderlineSMOTE\n",
    "from collections import Counter  \n",
    "X_resampled, y_resampled = BorderlineSMOTE().fit_resample(X, y)\n",
    "print(sorted(Counter(y_resampled).items()))\n",
    "\n",
    "#after applying SMOTE concating both values\n",
    "equal_defect = pd.concat([X_resampled,y_resampled],axis=1)\n",
    "equal_defect['Defect'].value_counts()"
   ]
  },
  {
   "cell_type": "markdown",
   "metadata": {},
   "source": [
    "# Model Creation for without outlier and SMOTE applied"
   ]
  },
  {
   "attachments": {},
   "cell_type": "markdown",
   "metadata": {},
   "source": [
    "Algorithm used here is RandomForestClassifier"
   ]
  },
  {
   "cell_type": "code",
   "execution_count": 20,
   "metadata": {},
   "outputs": [
    {
     "name": "stdout",
     "output_type": "stream",
     "text": [
      "8         0\n",
      "20        0\n",
      "21        0\n",
      "22        0\n",
      "23        0\n",
      "         ..\n",
      "827231    0\n",
      "827234    0\n",
      "827269    0\n",
      "827290    0\n",
      "827294    0\n",
      "Name: Defect, Length: 67391, dtype: int64\n"
     ]
    },
    {
     "data": {
      "text/plain": [
       "1.0"
      ]
     },
     "execution_count": 20,
     "metadata": {},
     "output_type": "execute_result"
    }
   ],
   "source": [
    "X_smote = equal_defect.drop(\"Defect\",axis=1)\n",
    "y_smote = equal_defect[\"Defect\"]\n",
    "print(y)\n",
    "\n",
    "X_train_smote,X_test_smote,y_train_smote,y_test_smote = train_test_split(X_smote,y_smote,train_size=0.7,random_state=252)\n",
    "\n",
    "model1 = RandomForestClassifier()\n",
    "model1.fit(X_train_smote,y_train_smote)\n",
    "model1.score(X_train_smote,y_train_smote)"
   ]
  },
  {
   "cell_type": "code",
   "execution_count": 21,
   "metadata": {},
   "outputs": [
    {
     "data": {
      "text/plain": [
       "array([[19375,     4,   371],\n",
       "       [   28, 19775,     2],\n",
       "       [  155,     2, 19742]])"
      ]
     },
     "execution_count": 21,
     "metadata": {},
     "output_type": "execute_result"
    }
   ],
   "source": [
    "predict = model1.predict(X_test_smote)\n",
    "confusion_matrix(y_test_smote,predict)"
   ]
  },
  {
   "cell_type": "code",
   "execution_count": 22,
   "metadata": {},
   "outputs": [
    {
     "name": "stdout",
     "output_type": "stream",
     "text": [
      "              precision    recall  f1-score   support\n",
      "\n",
      "           0       0.99      0.98      0.99     19750\n",
      "           1       1.00      1.00      1.00     19805\n",
      "           2       0.98      0.99      0.99     19899\n",
      "\n",
      "    accuracy                           0.99     59454\n",
      "   macro avg       0.99      0.99      0.99     59454\n",
      "weighted avg       0.99      0.99      0.99     59454\n",
      "\n"
     ]
    }
   ],
   "source": [
    "print(classification_report(y_test_smote,predict))"
   ]
  },
  {
   "cell_type": "markdown",
   "metadata": {},
   "source": [
    "# With outlier and smote applied"
   ]
  },
  {
   "attachments": {},
   "cell_type": "markdown",
   "metadata": {},
   "source": [
    "Algorithm used here is RandomForestClassifier"
   ]
  },
  {
   "cell_type": "code",
   "execution_count": 76,
   "metadata": {},
   "outputs": [
    {
     "name": "stdout",
     "output_type": "stream",
     "text": [
      "[(0, 821781), (1, 821781), (2, 821781)]\n"
     ]
    },
    {
     "data": {
      "text/plain": [
       "array([[244559,    345,   1440],\n",
       "       [   797, 245471,      0],\n",
       "       [   513,      3, 246475]])"
      ]
     },
     "execution_count": 76,
     "metadata": {},
     "output_type": "execute_result"
    }
   ],
   "source": [
    "# for this we already save data in variable upd_df\n",
    "\n",
    "\n",
    "X = upd_df.drop(\"Defect\",axis=1)\n",
    "y = upd_df['Defect']\n",
    "\n",
    "\n",
    "#Applying SMOTE to handle imbalaanced data set\n",
    "from imblearn.over_sampling import BorderlineSMOTE\n",
    "from collections import Counter  \n",
    "X_resampled, y_resampled = BorderlineSMOTE().fit_resample(X, y)\n",
    "print(sorted(Counter(y_resampled).items()))\n",
    "\n",
    "#after applying SMOTE concating both values\n",
    "equal_defect = pd.concat([X_resampled,y_resampled],axis=1)\n",
    "equal_defect['Defect'].value_counts()\n",
    "\n",
    "\n",
    "#split X and Y for our model\n",
    "X = equal_defect.drop(\"Defect\",axis=1)\n",
    "y = equal_defect[\"Defect\"]\n",
    "\n",
    "X,y = shuffle(X,y)\n",
    "\n",
    "#Training testing\n",
    "X_train,X_test,y_train,y_test = train_test_split(X,y,train_size=0.7,random_state=252)\n",
    "\n",
    "#model creation\n",
    "#criterion= 'entropy', n_estimators= 200, n_jobs= 2, oob_score= True\n",
    "model_with_out1 = RandomForestClassifier()\n",
    "model_with_out1.fit(X_train,y_train)\n",
    "model_with_out1.score(X_train,y_train)\n",
    "\n",
    "#performance\n",
    "predict = model_with_out1.predict(X_test)\n",
    "confusion_matrix(y_test,predict)"
   ]
  },
  {
   "cell_type": "code",
   "execution_count": 77,
   "metadata": {},
   "outputs": [
    {
     "name": "stdout",
     "output_type": "stream",
     "text": [
      "              precision    recall  f1-score   support\n",
      "\n",
      "           0       0.99      0.99      0.99    246344\n",
      "           1       1.00      1.00      1.00    246268\n",
      "           2       0.99      1.00      1.00    246991\n",
      "\n",
      "    accuracy                           1.00    739603\n",
      "   macro avg       1.00      1.00      1.00    739603\n",
      "weighted avg       1.00      1.00      1.00    739603\n",
      "\n"
     ]
    }
   ],
   "source": [
    "print(classification_report(y_test,predict))"
   ]
  },
  {
   "cell_type": "code",
   "execution_count": 81,
   "metadata": {},
   "outputs": [
    {
     "data": {
      "text/plain": [
       "0    821781\n",
       "2      4610\n",
       "1      1143\n",
       "Name: Defect, dtype: int64"
      ]
     },
     "execution_count": 81,
     "metadata": {},
     "output_type": "execute_result"
    }
   ],
   "source": [
    "upd_df[\"Defect\"].value_counts()"
   ]
  },
  {
   "cell_type": "code",
   "execution_count": 84,
   "metadata": {},
   "outputs": [
    {
     "name": "stdout",
     "output_type": "stream",
     "text": [
      "              precision    recall  f1-score   support\n",
      "\n",
      "           0       0.99      1.00      0.99    100000\n",
      "           1       1.00      1.00      1.00    100000\n",
      "           2       1.00      1.00      1.00    100000\n",
      "\n",
      "    accuracy                           1.00    300000\n",
      "   macro avg       1.00      1.00      1.00    300000\n",
      "weighted avg       1.00      1.00      1.00    300000\n",
      "\n"
     ]
    }
   ],
   "source": [
    "Defect = upd_df[upd_df['Defect']==0].head(1143)\n",
    "Tungsten_Inclusion = upd_df[upd_df[\"Defect\"]==2].head(1143)\n",
    "Porosity = upd_df[upd_df[\"Defect\"]==1].tail(1143)\n",
    "\n",
    "equal_number_of_classes = pd.concat([Defect,Tungsten_Inclusion,Porosity],axis=0)\n",
    "\n",
    "\n",
    "\n",
    "equal_number_of_classes[\"Defect\"].value_counts()\n",
    "\n",
    "X_test = equal_number_of_classes.drop([\"Defect\"],axis=1)\n",
    "y_test = equal_number_of_classes[\"Defect\"]\n",
    "\n",
    "X_test, y_test = shuffle(X_test, y_test)\n",
    "\n",
    "predict_with_out = model_with_out1.predict(X_test)\n",
    "y_preds = np.round(predict_with_out)\n",
    "print(classification_report(y_test,y_preds))"
   ]
  },
  {
   "attachments": {},
   "cell_type": "markdown",
   "metadata": {},
   "source": [
    "Algorithm used here is DecisionTreeClassifier"
   ]
  },
  {
   "cell_type": "code",
   "execution_count": 85,
   "metadata": {},
   "outputs": [
    {
     "name": "stdout",
     "output_type": "stream",
     "text": [
      "[(0, 821781), (1, 821781), (2, 821781)]\n"
     ]
    },
    {
     "data": {
      "text/plain": [
       "array([[241906,    798,   2858],\n",
       "       [   826, 245857,      6],\n",
       "       [  1393,     15, 245944]])"
      ]
     },
     "execution_count": 85,
     "metadata": {},
     "output_type": "execute_result"
    }
   ],
   "source": [
    "# for this we already save data in variable upd_df\n",
    "\n",
    "\n",
    "X = upd_df.drop(\"Defect\",axis=1)\n",
    "y = upd_df['Defect']\n",
    "\n",
    "\n",
    "#Applying SMOTE to handle imbalaanced data set\n",
    "from imblearn.over_sampling import BorderlineSMOTE\n",
    "from collections import Counter  \n",
    "X_resampled, y_resampled = BorderlineSMOTE().fit_resample(X, y)\n",
    "print(sorted(Counter(y_resampled).items()))\n",
    "\n",
    "#after applying SMOTE concating both values\n",
    "equal_defect = pd.concat([X_resampled,y_resampled],axis=1)\n",
    "equal_defect['Defect'].value_counts()\n",
    "\n",
    "\n",
    "#split X and Y for our model\n",
    "X = equal_defect.drop(\"Defect\",axis=1)\n",
    "y = equal_defect[\"Defect\"]\n",
    "\n",
    "X,y = shuffle(X,y)\n",
    "\n",
    "#Training testing\n",
    "X_train,X_test,y_train,y_test = train_test_split(X,y,train_size=0.7,random_state=252)\n",
    "\n",
    "#model creation\n",
    "#criterion= 'entropy', n_estimators= 200, n_jobs= 2, oob_score= True\n",
    "model_with_out1 = DecisionTreeClassifier()\n",
    "model_with_out1.fit(X_train,y_train)\n",
    "model_with_out1.score(X_train,y_train)\n",
    "\n",
    "#performance\n",
    "predict = model_with_out1.predict(X_test)\n",
    "confusion_matrix(y_test,predict)"
   ]
  },
  {
   "cell_type": "code",
   "execution_count": 86,
   "metadata": {},
   "outputs": [
    {
     "name": "stdout",
     "output_type": "stream",
     "text": [
      "              precision    recall  f1-score   support\n",
      "\n",
      "           0       0.99      0.99      0.99    245562\n",
      "           1       1.00      1.00      1.00    246689\n",
      "           2       0.99      0.99      0.99    247352\n",
      "\n",
      "    accuracy                           0.99    739603\n",
      "   macro avg       0.99      0.99      0.99    739603\n",
      "weighted avg       0.99      0.99      0.99    739603\n",
      "\n"
     ]
    }
   ],
   "source": [
    "print(classification_report(y_test,predict))"
   ]
  },
  {
   "cell_type": "code",
   "execution_count": 87,
   "metadata": {},
   "outputs": [
    {
     "name": "stdout",
     "output_type": "stream",
     "text": [
      "              precision    recall  f1-score   support\n",
      "\n",
      "           0       0.70      0.99      0.82      1143\n",
      "           1       1.00      0.68      0.81      1143\n",
      "           2       0.99      0.88      0.93      1143\n",
      "\n",
      "    accuracy                           0.85      3429\n",
      "   macro avg       0.90      0.85      0.86      3429\n",
      "weighted avg       0.90      0.85      0.86      3429\n",
      "\n"
     ]
    }
   ],
   "source": [
    "Defect = upd_df[upd_df['Defect']==0].head(1143)\n",
    "Tungsten_Inclusion = upd_df[upd_df[\"Defect\"]==2].head(1143)\n",
    "Porosity = upd_df[upd_df[\"Defect\"]==1].tail(1143)\n",
    "\n",
    "equal_number_of_classes = pd.concat([Defect,Tungsten_Inclusion,Porosity],axis=0)\n",
    "\n",
    "\n",
    "\n",
    "equal_number_of_classes[\"Defect\"].value_counts()\n",
    "\n",
    "X_test = equal_number_of_classes.drop([\"Defect\"],axis=1)\n",
    "y_test = equal_number_of_classes[\"Defect\"]\n",
    "\n",
    "X_test, y_test = shuffle(X_test, y_test)\n",
    "\n",
    "predict_with_out = model_with_out1.predict(X_test)\n",
    "y_preds = np.round(predict_with_out)\n",
    "print(classification_report(y_test,y_preds))"
   ]
  },
  {
   "cell_type": "code",
   "execution_count": 88,
   "metadata": {},
   "outputs": [],
   "source": [
    "import pickle\n",
    "with open('weldrightDecisionTree.pickle','wb') as f:\n",
    "    pickle.dump(model_with_out1,f)"
   ]
  },
  {
   "attachments": {},
   "cell_type": "markdown",
   "metadata": {},
   "source": [
    "Algorithm used here is XGBClassifier"
   ]
  },
  {
   "cell_type": "code",
   "execution_count": 92,
   "metadata": {},
   "outputs": [
    {
     "name": "stdout",
     "output_type": "stream",
     "text": [
      "[(0, 821781), (1, 821781), (2, 821781)]\n"
     ]
    },
    {
     "data": {
      "text/plain": [
       "array([[233589,   5572,   7967],\n",
       "       [   966, 245292,     14],\n",
       "       [  4108,    551, 241544]])"
      ]
     },
     "execution_count": 92,
     "metadata": {},
     "output_type": "execute_result"
    }
   ],
   "source": [
    "# for this we already save data in variable upd_df\n",
    "\n",
    "\n",
    "X = upd_df.drop(\"Defect\",axis=1)\n",
    "y = upd_df['Defect']\n",
    "\n",
    "\n",
    "#Applying SMOTE to handle imbalaanced data set\n",
    "from imblearn.over_sampling import BorderlineSMOTE\n",
    "from collections import Counter  \n",
    "X_resampled, y_resampled = BorderlineSMOTE().fit_resample(X, y)\n",
    "print(sorted(Counter(y_resampled).items()))\n",
    "\n",
    "#after applying SMOTE concating both values\n",
    "equal_defect = pd.concat([X_resampled,y_resampled],axis=1)\n",
    "equal_defect['Defect'].value_counts()\n",
    "\n",
    "\n",
    "#split X and Y for our model\n",
    "X = equal_defect.drop(\"Defect\",axis=1)\n",
    "y = equal_defect[\"Defect\"]\n",
    "\n",
    "X,y = shuffle(X,y)\n",
    "\n",
    "#Training testing\n",
    "X_train,X_test,y_train,y_test = train_test_split(X,y,train_size=0.7,random_state=252)\n",
    "\n",
    "#model creation\n",
    "#criterion= 'entropy', n_estimators= 200, n_jobs= 2, oob_score= True\n",
    "model_with_out1 = xgb.XGBClassifier()\n",
    "model_with_out1.fit(X_train,y_train)\n",
    "model_with_out1.score(X_train,y_train)\n",
    "\n",
    "#performance\n",
    "predict = model_with_out1.predict(X_test)\n",
    "confusion_matrix(y_test,predict)"
   ]
  },
  {
   "cell_type": "code",
   "execution_count": 93,
   "metadata": {},
   "outputs": [
    {
     "name": "stdout",
     "output_type": "stream",
     "text": [
      "              precision    recall  f1-score   support\n",
      "\n",
      "           0       0.98      0.95      0.96    247128\n",
      "           1       0.98      1.00      0.99    246272\n",
      "           2       0.97      0.98      0.97    246203\n",
      "\n",
      "    accuracy                           0.97    739603\n",
      "   macro avg       0.97      0.97      0.97    739603\n",
      "weighted avg       0.97      0.97      0.97    739603\n",
      "\n"
     ]
    }
   ],
   "source": [
    "print(classification_report(y_test,predict))"
   ]
  },
  {
   "cell_type": "code",
   "execution_count": 94,
   "metadata": {},
   "outputs": [
    {
     "name": "stdout",
     "output_type": "stream",
     "text": [
      "              precision    recall  f1-score   support\n",
      "\n",
      "           0       0.43      0.94      0.59      1143\n",
      "           1       0.97      0.10      0.17      1143\n",
      "           2       0.89      0.65      0.75      1143\n",
      "\n",
      "    accuracy                           0.56      3429\n",
      "   macro avg       0.77      0.56      0.50      3429\n",
      "weighted avg       0.77      0.56      0.50      3429\n",
      "\n"
     ]
    }
   ],
   "source": [
    "Defect = upd_df[upd_df['Defect']==0].head(1143)\n",
    "Tungsten_Inclusion = upd_df[upd_df[\"Defect\"]==2].head(1143)\n",
    "Porosity = upd_df[upd_df[\"Defect\"]==1].tail(1143)\n",
    "\n",
    "equal_number_of_classes = pd.concat([Defect,Tungsten_Inclusion,Porosity],axis=0)\n",
    "\n",
    "\n",
    "\n",
    "equal_number_of_classes[\"Defect\"].value_counts()\n",
    "\n",
    "X_test = equal_number_of_classes.drop([\"Defect\"],axis=1)\n",
    "y_test = equal_number_of_classes[\"Defect\"]\n",
    "\n",
    "X_test, y_test = shuffle(X_test, y_test)\n",
    "\n",
    "predict_with_out = model_with_out1.predict(X_test)\n",
    "y_preds = np.round(predict_with_out)\n",
    "print(classification_report(y_test,y_preds))"
   ]
  },
  {
   "cell_type": "code",
   "execution_count": 25,
   "metadata": {},
   "outputs": [],
   "source": [
    "#save the model in pickle format\n",
    "import pickle\n",
    "with open('weldright.pickle','wb') as f:\n",
    "    pickle.dump(model_with_out1,f)"
   ]
  },
  {
   "cell_type": "markdown",
   "metadata": {},
   "source": [
    "# With outlier and without smote"
   ]
  },
  {
   "cell_type": "code",
   "execution_count": 26,
   "metadata": {},
   "outputs": [
    {
     "data": {
      "text/plain": [
       "array([[246337,     11,    118],\n",
       "       [   355,      1,      0],\n",
       "       [  1084,      0,    355]])"
      ]
     },
     "execution_count": 26,
     "metadata": {},
     "output_type": "execute_result"
    }
   ],
   "source": [
    "\n",
    "X = upd_df.drop(\"Defect\",axis=1)\n",
    "y = upd_df['Defect']\n",
    "\n",
    "\n",
    "#Training testing\n",
    "X_train,X_test,y_train,y_test = train_test_split(X,y,train_size=0.7,random_state=252)\n",
    "\n",
    "#model creation\n",
    "model_with_out_without_smote = RandomForestClassifier()\n",
    "model_with_out_without_smote.fit(X_train,y_train)\n",
    "model_with_out_without_smote.score(X_train,y_train)\n",
    "\n",
    "#performance\n",
    "predict = model_with_out_without_smote.predict(X_test)\n",
    "confusion_matrix(y_test,predict)"
   ]
  },
  {
   "cell_type": "code",
   "execution_count": 27,
   "metadata": {},
   "outputs": [
    {
     "name": "stdout",
     "output_type": "stream",
     "text": [
      "              precision    recall  f1-score   support\n",
      "\n",
      "           0       0.99      1.00      1.00    246466\n",
      "           1       0.08      0.00      0.01       356\n",
      "           2       0.75      0.25      0.37      1439\n",
      "\n",
      "    accuracy                           0.99    248261\n",
      "   macro avg       0.61      0.42      0.46    248261\n",
      "weighted avg       0.99      0.99      0.99    248261\n",
      "\n"
     ]
    }
   ],
   "source": [
    "print(classification_report(y_test,predict))"
   ]
  },
  {
   "cell_type": "markdown",
   "metadata": {},
   "source": [
    "# Checking the models generlaization"
   ]
  },
  {
   "cell_type": "code",
   "execution_count": 28,
   "metadata": {},
   "outputs": [
    {
     "data": {
      "text/plain": [
       "No Defect             821781\n",
       "Tungsten Inclusion      4610\n",
       "Porosity                1143\n",
       "Name: Defect, dtype: int64"
      ]
     },
     "execution_count": 28,
     "metadata": {},
     "output_type": "execute_result"
    }
   ],
   "source": [
    "df['Defect'].value_counts()"
   ]
  },
  {
   "cell_type": "code",
   "execution_count": 29,
   "metadata": {},
   "outputs": [],
   "source": [
    "Defect = upd_df[upd_df['Defect']==0].head(1143)\n",
    "Tungsten_Inclusion = upd_df[upd_df[\"Defect\"]==2].head(1143)\n",
    "Porosity = upd_df[upd_df[\"Defect\"]==1].head(1143)"
   ]
  },
  {
   "cell_type": "markdown",
   "metadata": {},
   "source": [
    "# 0 - Defect\n",
    "# 1 - Porosity\n",
    "# 2 - Tungsten_Inclusion"
   ]
  },
  {
   "cell_type": "code",
   "execution_count": 30,
   "metadata": {},
   "outputs": [
    {
     "name": "stdout",
     "output_type": "stream",
     "text": [
      "              precision    recall  f1-score   support\n",
      "\n",
      "           0       1.00      1.00      1.00       498\n",
      "           2       0.67      1.00      0.80         2\n",
      "\n",
      "    accuracy                           1.00       500\n",
      "   macro avg       0.83      1.00      0.90       500\n",
      "weighted avg       1.00      1.00      1.00       500\n",
      "\n"
     ]
    }
   ],
   "source": [
    "random_data_df = upd_df.sample(n=500)\n",
    "\n",
    "random_data_df['Defect'].value_counts()\n",
    "X_test = random_data_df.drop(\"Defect\",axis=1)\n",
    "y_test = random_data_df[\"Defect\"]\n",
    "\n",
    "predict_with_out = model_with_out1.predict(X_test)\n",
    "print(classification_report(y_test,predict_with_out))"
   ]
  },
  {
   "cell_type": "markdown",
   "metadata": {},
   "source": [
    "# Creating dataset with equal number of Defect,Tungsten_Inclusion,Porosity"
   ]
  },
  {
   "cell_type": "code",
   "execution_count": 31,
   "metadata": {},
   "outputs": [],
   "source": [
    "equal_number_of_classes = pd.concat([Defect,Tungsten_Inclusion,Porosity],axis=0)"
   ]
  },
  {
   "cell_type": "code",
   "execution_count": 32,
   "metadata": {},
   "outputs": [
    {
     "data": {
      "text/plain": [
       "0    1143\n",
       "2    1143\n",
       "1    1143\n",
       "Name: Defect, dtype: int64"
      ]
     },
     "execution_count": 32,
     "metadata": {},
     "output_type": "execute_result"
    }
   ],
   "source": [
    "equal_number_of_classes['Defect'].value_counts()"
   ]
  },
  {
   "cell_type": "code",
   "execution_count": 33,
   "metadata": {},
   "outputs": [],
   "source": [
    "equal_number_of_classes['Defect'].value_counts()\n",
    "X_test = equal_number_of_classes.drop(\"Defect\",axis=1)\n",
    "y_test = equal_number_of_classes[\"Defect\"]\n",
    " "
   ]
  },
  {
   "cell_type": "code",
   "execution_count": 34,
   "metadata": {},
   "outputs": [
    {
     "data": {
      "text/plain": [
       "array([[1143,    0,    0],\n",
       "       [ 379,  761,    3],\n",
       "       [ 133,    0, 1010]])"
      ]
     },
     "execution_count": 34,
     "metadata": {},
     "output_type": "execute_result"
    }
   ],
   "source": [
    "predict_with_out = model_with_out1.predict(X_test)\n",
    "confusion_matrix(y_test,predict_with_out)"
   ]
  },
  {
   "cell_type": "code",
   "execution_count": 35,
   "metadata": {},
   "outputs": [
    {
     "name": "stdout",
     "output_type": "stream",
     "text": [
      "              precision    recall  f1-score   support\n",
      "\n",
      "           0       0.69      1.00      0.82      1143\n",
      "           1       1.00      0.67      0.80      1143\n",
      "           2       1.00      0.88      0.94      1143\n",
      "\n",
      "    accuracy                           0.85      3429\n",
      "   macro avg       0.90      0.85      0.85      3429\n",
      "weighted avg       0.90      0.85      0.85      3429\n",
      "\n"
     ]
    }
   ],
   "source": [
    "print(classification_report(y_test,predict_with_out))"
   ]
  },
  {
   "cell_type": "code",
   "execution_count": 36,
   "metadata": {},
   "outputs": [
    {
     "name": "stdout",
     "output_type": "stream",
     "text": [
      "[(0, 821781), (1, 821781), (2, 821781)]\n",
      "              precision    recall  f1-score   support\n",
      "\n",
      "           0       0.99      0.99      0.99    246219\n",
      "           1       1.00      1.00      1.00    246980\n",
      "           2       0.99      0.99      0.99    246404\n",
      "\n",
      "    accuracy                           0.99    739603\n",
      "   macro avg       0.99      0.99      0.99    739603\n",
      "weighted avg       0.99      0.99      0.99    739603\n",
      "\n"
     ]
    }
   ],
   "source": [
    "# for this we already save data in variable upd_df\n",
    "\n",
    "\n",
    "X = upd_df.drop(\"Defect\",axis=1)\n",
    "y = upd_df['Defect']\n",
    "\n",
    "\n",
    "#Applying SMOTE to handle imbalaanced data set\n",
    "from imblearn.over_sampling import BorderlineSMOTE\n",
    "from collections import Counter  \n",
    "X_resampled, y_resampled = BorderlineSMOTE().fit_resample(X, y)\n",
    "print(sorted(Counter(y_resampled).items()))\n",
    "\n",
    "#after applying SMOTE concating both values\n",
    "equal_defect = pd.concat([X_resampled,y_resampled],axis=1)\n",
    "equal_defect['Defect'].value_counts()\n",
    "\n",
    "\n",
    "#split X and Y for our model\n",
    "X = equal_defect.drop(\"Defect\",axis=1)\n",
    "y = equal_defect[\"Defect\"]\n",
    "\n",
    "#Training testing\n",
    "X_train,X_test,y_train,y_test = train_test_split(X,y,train_size=0.7,random_state=252)\n",
    "\n",
    "#model creation\n",
    "model_with_out2 = DecisionTreeClassifier()\n",
    "model_with_out2.fit(X_train,y_train)\n",
    "model_with_out2.score(X_train,y_train)\n",
    "\n",
    "#performance\n",
    "predict = model_with_out2.predict(X_test)\n",
    "confusion_matrix(y_test,predict)\n",
    "print(classification_report(y_test,predict))"
   ]
  },
  {
   "cell_type": "code",
   "execution_count": 37,
   "metadata": {},
   "outputs": [
    {
     "name": "stdout",
     "output_type": "stream",
     "text": [
      "              precision    recall  f1-score   support\n",
      "\n",
      "           0       0.68      0.99      0.81      1143\n",
      "           1       1.00      0.65      0.79      1143\n",
      "           2       0.99      0.88      0.93      1143\n",
      "\n",
      "    accuracy                           0.84      3429\n",
      "   macro avg       0.89      0.84      0.84      3429\n",
      "weighted avg       0.89      0.84      0.84      3429\n",
      "\n"
     ]
    }
   ],
   "source": [
    "equal_number_of_classes['Defect'].value_counts()\n",
    "X_test = equal_number_of_classes.drop(\"Defect\",axis=1)\n",
    "y_test = equal_number_of_classes[\"Defect\"]\n",
    "\n",
    "predict_with_out = model_with_out2.predict(X_test)\n",
    "confusion_matrix(y_test,predict_with_out)\n",
    "print(classification_report(y_test,predict_with_out))"
   ]
  },
  {
   "cell_type": "markdown",
   "metadata": {},
   "source": [
    "# hybrid models"
   ]
  },
  {
   "cell_type": "code",
   "execution_count": 38,
   "metadata": {},
   "outputs": [
    {
     "name": "stdout",
     "output_type": "stream",
     "text": [
      "[(0, 66060), (1, 66060), (2, 66060)]\n"
     ]
    }
   ],
   "source": [
    "# DecisionTress\n",
    "\n",
    "\n",
    "# X = upd_df.drop(\"Defect\",axis=1)\n",
    "# y = upd_df['Defect']\n",
    "\n",
    "\n",
    "\n",
    "X = upd_no_outlier_curr.drop(\"Defect\",axis=1)\n",
    "y = upd_no_outlier_curr[\"Defect\"]\n",
    "\n",
    "#Applying SMOTE to handle imbalaanced data set\n",
    "from imblearn.over_sampling import BorderlineSMOTE\n",
    "from collections import Counter  \n",
    "X_resampled, y_resampled = BorderlineSMOTE().fit_resample(X, y)\n",
    "print(sorted(Counter(y_resampled).items()))\n",
    "\n",
    "#after applying SMOTE concating both values\n",
    "equal_defect = pd.concat([X_resampled,y_resampled],axis=1)\n",
    "equal_defect['Defect'].value_counts()\n",
    "\n",
    "\n",
    "\n",
    "X_smote = equal_defect.drop(\"Defect\",axis=1)\n",
    "y_smote = equal_defect[\"Defect\"]\n",
    "\n",
    "enc = LabelEncoder\n",
    "\n",
    "\n",
    "X_train_smote,X_test_smote,y_train_smote,y_test_smote = train_test_split(X_smote,y_smote,train_size=0.7,random_state=252)\n",
    "\n",
    "model2 = DecisionTreeClassifier()\n",
    "model2.fit(X_train_smote,y_train_smote)\n",
    "model2.score(X_train_smote,y_train_smote)\n",
    "predict = model2.predict(X_test_smote)\n",
    "# confusion_matrix(y_test_smote,predict)\n"
   ]
  },
  {
   "cell_type": "code",
   "execution_count": 39,
   "metadata": {},
   "outputs": [
    {
     "name": "stdout",
     "output_type": "stream",
     "text": [
      "              precision    recall  f1-score   support\n",
      "\n",
      "           0       0.98      0.97      0.97     19750\n",
      "           1       1.00      1.00      1.00     19805\n",
      "           2       0.97      0.98      0.97     19899\n",
      "\n",
      "    accuracy                           0.98     59454\n",
      "   macro avg       0.98      0.98      0.98     59454\n",
      "weighted avg       0.98      0.98      0.98     59454\n",
      "\n"
     ]
    }
   ],
   "source": [
    "print(classification_report(y_test_smote,predict))"
   ]
  },
  {
   "cell_type": "code",
   "execution_count": 40,
   "metadata": {},
   "outputs": [
    {
     "name": "stdout",
     "output_type": "stream",
     "text": [
      "[(0, 66060), (1, 66060), (2, 66060)]\n",
      "              precision    recall  f1-score   support\n",
      "\n",
      "           0       0.73      0.60      0.66     19750\n",
      "           1       0.71      1.00      0.83     19805\n",
      "           2       0.89      0.69      0.78     19899\n",
      "\n",
      "    accuracy                           0.76     59454\n",
      "   macro avg       0.78      0.76      0.76     59454\n",
      "weighted avg       0.78      0.76      0.76     59454\n",
      "\n"
     ]
    }
   ],
   "source": [
    "#GaussianNB\n",
    "\n",
    "\n",
    "# X = upd_df.drop(\"Defect\",axis=1)\n",
    "# y = upd_df['Defect']\n",
    "\n",
    "X = upd_no_outlier_curr.drop(\"Defect\",axis=1)\n",
    "y = upd_no_outlier_curr[\"Defect\"]\n",
    "\n",
    "#Applying SMOTE to handle imbalaanced data set\n",
    "from imblearn.over_sampling import BorderlineSMOTE\n",
    "from collections import Counter  \n",
    "X_resampled, y_resampled = BorderlineSMOTE().fit_resample(X, y)\n",
    "print(sorted(Counter(y_resampled).items()))\n",
    "\n",
    "#after applying SMOTE concating both values\n",
    "equal_defect = pd.concat([X_resampled,y_resampled],axis=1)\n",
    "equal_defect['Defect'].value_counts()\n",
    "\n",
    "\n",
    "X_train_smote,X_test_smote,y_train_smote,y_test_smote = train_test_split(X_smote,y_smote,train_size=0.7,random_state=252)\n",
    "\n",
    "model3 = GaussianNB()\n",
    "model3.fit(X_train_smote,y_train_smote)\n",
    "model3.score(X_train_smote,y_train_smote)\n",
    "predict = model3.predict(X_test_smote)\n",
    "# confusion_matrix(y_test_smote,predict)\n",
    "print(classification_report(y_test_smote,predict))"
   ]
  },
  {
   "cell_type": "code",
   "execution_count": 41,
   "metadata": {},
   "outputs": [
    {
     "name": "stdout",
     "output_type": "stream",
     "text": [
      "[(0, 66060), (1, 66060), (2, 66060)]\n",
      "0         0\n",
      "1         0\n",
      "2         0\n",
      "3         0\n",
      "4         0\n",
      "         ..\n",
      "198175    2\n",
      "198176    2\n",
      "198177    2\n",
      "198178    2\n",
      "198179    2\n",
      "Name: Defect, Length: 198180, dtype: int64\n",
      "              precision    recall  f1-score   support\n",
      "\n",
      "           0       0.79      0.57      0.66     19750\n",
      "           1       0.66      1.00      0.80     19805\n",
      "           2       0.89      0.69      0.78     19899\n",
      "\n",
      "    accuracy                           0.75     59454\n",
      "   macro avg       0.78      0.75      0.75     59454\n",
      "weighted avg       0.78      0.75      0.75     59454\n",
      "\n"
     ]
    }
   ],
   "source": [
    "#SVC\n",
    "\n",
    "\n",
    "# X = upd_df.drop(\"Defect\",axis=1)\n",
    "# y = upd_df['Defect']\n",
    "\n",
    "X = upd_no_outlier_curr.drop(\"Defect\",axis=1)\n",
    "y = upd_no_outlier_curr[\"Defect\"]\n",
    "\n",
    "#Applying SMOTE to handle imbalaanced data set\n",
    "from imblearn.over_sampling import BorderlineSMOTE\n",
    "from collections import Counter  \n",
    "X_resampled, y_resampled = BorderlineSMOTE().fit_resample(X, y)\n",
    "print(sorted(Counter(y_resampled).items()))\n",
    "\n",
    "#after applying SMOTE concating both values\n",
    "equal_defect = pd.concat([X_resampled,y_resampled],axis=1)\n",
    "equal_defect['Defect'].value_counts()\n",
    "\n",
    "print(y_smote)\n",
    "X_train_smote,X_test_smote,y_train_smote,y_test_smote = train_test_split(X_smote,y_smote,train_size=0.7,random_state=252)\n",
    "\n",
    "model4 = SVC(kernel=\"rbf\")\n",
    "model4.fit(X_train_smote,y_train_smote)\n",
    "model4.score(X_train_smote,y_train_smote)\n",
    "predict = model4.predict(X_test_smote)\n",
    "# confusion_matrix(y_test_smote,predict)\n",
    "print(classification_report(y_test_smote,predict))"
   ]
  },
  {
   "cell_type": "code",
   "execution_count": 42,
   "metadata": {},
   "outputs": [
    {
     "name": "stdout",
     "output_type": "stream",
     "text": [
      "[(0, 66060), (1, 66060), (2, 66060)]\n"
     ]
    }
   ],
   "source": [
    "#XGBoost\n",
    "X = upd_no_outlier_curr.drop(\"Defect\",axis=1)\n",
    "y = upd_no_outlier_curr[\"Defect\"]\n",
    "\n",
    "#Applying SMOTE to handle imbalaanced data set\n",
    "from imblearn.over_sampling import BorderlineSMOTE\n",
    "from collections import Counter  \n",
    "X_resampled, y_resampled = BorderlineSMOTE().fit_resample(X, y)\n",
    "print(sorted(Counter(y_resampled).items()))\n",
    "\n",
    "#after applying SMOTE concating both values\n",
    "equal_defect = pd.concat([X_resampled,y_resampled],axis=1)\n",
    "equal_defect['Defect'].value_counts()\n",
    "\n",
    "\n",
    "X_train_smote,X_test_smote,y_train_smote,y_test_smote = train_test_split(X_smote,y_smote,train_size=0.7,random_state=252)\n",
    "\n",
    "model5 = xgb.XGBClassifier()\n",
    "model5.fit(X_train_smote,y_train_smote)\n",
    "model5.score(X_train_smote,y_train_smote)\n",
    "predict = model5.predict(X_test_smote)\n",
    "# confusion_matrix(y_test_smote,predict)\n"
   ]
  },
  {
   "cell_type": "code",
   "execution_count": 43,
   "metadata": {},
   "outputs": [
    {
     "name": "stdout",
     "output_type": "stream",
     "text": [
      "              precision    recall  f1-score   support\n",
      "\n",
      "           0       0.98      0.97      0.98     19750\n",
      "           1       1.00      1.00      1.00     19805\n",
      "           2       0.97      0.98      0.98     19899\n",
      "\n",
      "    accuracy                           0.98     59454\n",
      "   macro avg       0.98      0.98      0.98     59454\n",
      "weighted avg       0.98      0.98      0.98     59454\n",
      "\n"
     ]
    }
   ],
   "source": [
    "print(classification_report(y_test_smote,predict))"
   ]
  },
  {
   "cell_type": "markdown",
   "metadata": {},
   "source": [
    "# Downloading pickle file "
   ]
  },
  {
   "cell_type": "code",
   "execution_count": 44,
   "metadata": {},
   "outputs": [],
   "source": [
    "#save the model in pickle format\n",
    "import pickle\n",
    "with open('wel_right_RandomForest.pickle','wb') as f:\n",
    "    pickle.dump(model1,f)"
   ]
  },
  {
   "cell_type": "code",
   "execution_count": 45,
   "metadata": {},
   "outputs": [],
   "source": [
    "#save the model in pickle format\n",
    "import pickle\n",
    "with open('wel_right_RandomForest.pickle','wb') as f:\n",
    "    pickle.dump(model2,f)"
   ]
  },
  {
   "cell_type": "code",
   "execution_count": 46,
   "metadata": {},
   "outputs": [],
   "source": [
    "#save the model in pickle format\n",
    "import pickle\n",
    "with open('wel_right_RandomForest.pickle','wb') as f:\n",
    "    pickle.dump(model3,f)"
   ]
  },
  {
   "cell_type": "code",
   "execution_count": 47,
   "metadata": {},
   "outputs": [],
   "source": [
    "#save the model in pickle format\n",
    "import pickle\n",
    "with open('wel_right_RandomForest.pickle','wb') as f:\n",
    "    pickle.dump(model4,f)"
   ]
  },
  {
   "cell_type": "code",
   "execution_count": 48,
   "metadata": {},
   "outputs": [],
   "source": [
    "#save the model in pickle format\n",
    "import pickle\n",
    "with open('wel_right_RandomForest.pickle','wb') as f:\n",
    "    pickle.dump(model5,f)"
   ]
  },
  {
   "cell_type": "code",
   "execution_count": null,
   "metadata": {},
   "outputs": [],
   "source": []
  }
 ],
 "metadata": {
  "kernelspec": {
   "display_name": "Python 3.9.13 ('myenv')",
   "language": "python",
   "name": "python3"
  },
  "language_info": {
   "codemirror_mode": {
    "name": "ipython",
    "version": 3
   },
   "file_extension": ".py",
   "mimetype": "text/x-python",
   "name": "python",
   "nbconvert_exporter": "python",
   "pygments_lexer": "ipython3",
   "version": "3.9.15"
  },
  "orig_nbformat": 4,
  "vscode": {
   "interpreter": {
    "hash": "b2d415adef5bab6d8473e56b8401b7828bd793ae8a13b27d6139017698c5c551"
   }
  }
 },
 "nbformat": 4,
 "nbformat_minor": 2
}
